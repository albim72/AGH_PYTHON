{
 "cells":[
  {
   "cell_type":"code",
   "source":[
    "import numpy as np\n",
    "import pandas as pd"
   ],
   "execution_count":1,
   "outputs":[
    
   ],
   "metadata":{
    "datalore":{
     "node_id":"JIowsHoQULGh3zNtlHCRAV",
     "type":"CODE",
     "hide_input_from_viewers":false,
     "hide_output_from_viewers":false
    }
   }
  },
  {
   "cell_type":"code",
   "source":[
    "s = pd.Series([1,46,7,24,np.nan,45,2,5])\n",
    "s"
   ],
   "execution_count":3,
   "outputs":[
    {
     "data":{
      "text\/html":[
       "<pre>0     1.0\n",
       "1    46.0\n",
       "2     7.0\n",
       "3    24.0\n",
       "4     NaN\n",
       "5    45.0\n",
       "6     2.0\n",
       "7     5.0\n",
       "dtype: float64<\/pre>"
      ]
     },
     "metadata":{
      
     },
     "output_type":"display_data"
    }
   ],
   "metadata":{
    "datalore":{
     "node_id":"I11IKSyt1F1SVfL0wPudbU",
     "type":"CODE",
     "hide_input_from_viewers":false,
     "hide_output_from_viewers":false
    }
   }
  },
  {
   "cell_type":"code",
   "source":[
    "daty = pd.date_range(\"20221209\",periods=6)\n",
    "daty"
   ],
   "execution_count":6,
   "outputs":[
    {
     "data":{
      "text\/plain":[
       "DatetimeIndex(['2022-12-09', '2022-12-10', '2022-12-11', '2022-12-12',\n",
       "               '2022-12-13', '2022-12-14'],\n",
       "              dtype='datetime64[ns]', freq='D')"
      ]
     },
     "metadata":{
      
     },
     "output_type":"display_data"
    }
   ],
   "metadata":{
    "datalore":{
     "node_id":"3YvQyFdGlua3AsdlOHMI6c",
     "type":"CODE",
     "hide_input_from_viewers":false,
     "hide_output_from_viewers":false
    }
   }
  },
  {
   "cell_type":"code",
   "source":[
    "df = pd.DataFrame(np.random.randn(6,4), index=daty, columns=list(\"ABCD\"))\n",
    "df"
   ],
   "execution_count":10,
   "outputs":[
    {
     "data":{
      "text\/html":[
       "<div>\n",
       "<style scoped>\n",
       "    .dataframe tbody tr th:only-of-type {\n",
       "        vertical-align: middle;\n",
       "    }\n",
       "\n",
       "    .dataframe tbody tr th {\n",
       "        vertical-align: top;\n",
       "    }\n",
       "\n",
       "    .dataframe thead th {\n",
       "        text-align: right;\n",
       "    }\n",
       "<\/style>\n",
       "<table border=\"1\" class=\"dataframe\">\n",
       "  <thead>\n",
       "    <tr style=\"text-align: right;\">\n",
       "      <th><\/th>\n",
       "      <th>A<\/th>\n",
       "      <th>B<\/th>\n",
       "      <th>C<\/th>\n",
       "      <th>D<\/th>\n",
       "    <\/tr>\n",
       "  <\/thead>\n",
       "  <tbody>\n",
       "    <tr>\n",
       "      <th>2022-12-09<\/th>\n",
       "      <td>-0.026712<\/td>\n",
       "      <td>0.165084<\/td>\n",
       "      <td>0.518039<\/td>\n",
       "      <td>0.298426<\/td>\n",
       "    <\/tr>\n",
       "    <tr>\n",
       "      <th>2022-12-10<\/th>\n",
       "      <td>0.612785<\/td>\n",
       "      <td>-1.588146<\/td>\n",
       "      <td>0.472847<\/td>\n",
       "      <td>0.672616<\/td>\n",
       "    <\/tr>\n",
       "    <tr>\n",
       "      <th>2022-12-11<\/th>\n",
       "      <td>-0.584416<\/td>\n",
       "      <td>0.076918<\/td>\n",
       "      <td>-0.195291<\/td>\n",
       "      <td>0.535971<\/td>\n",
       "    <\/tr>\n",
       "    <tr>\n",
       "      <th>2022-12-12<\/th>\n",
       "      <td>-0.384783<\/td>\n",
       "      <td>1.057803<\/td>\n",
       "      <td>1.242376<\/td>\n",
       "      <td>0.297427<\/td>\n",
       "    <\/tr>\n",
       "    <tr>\n",
       "      <th>2022-12-13<\/th>\n",
       "      <td>0.097823<\/td>\n",
       "      <td>-1.070181<\/td>\n",
       "      <td>-0.332997<\/td>\n",
       "      <td>0.792624<\/td>\n",
       "    <\/tr>\n",
       "    <tr>\n",
       "      <th>2022-12-14<\/th>\n",
       "      <td>-0.582287<\/td>\n",
       "      <td>0.717762<\/td>\n",
       "      <td>0.169826<\/td>\n",
       "      <td>-0.900196<\/td>\n",
       "    <\/tr>\n",
       "  <\/tbody>\n",
       "<\/table>\n",
       "<\/div>"
      ]
     },
     "metadata":{
      
     },
     "output_type":"display_data"
    }
   ],
   "metadata":{
    "datalore":{
     "node_id":"3xTTkrRnhIV6CpSZl1sU61",
     "type":"CODE",
     "hide_input_from_viewers":false,
     "hide_output_from_viewers":false
    }
   }
  },
  {
   "cell_type":"code",
   "source":[
    "df.head(2)"
   ],
   "execution_count":11,
   "outputs":[
    {
     "data":{
      "text\/html":[
       "<div>\n",
       "<style scoped>\n",
       "    .dataframe tbody tr th:only-of-type {\n",
       "        vertical-align: middle;\n",
       "    }\n",
       "\n",
       "    .dataframe tbody tr th {\n",
       "        vertical-align: top;\n",
       "    }\n",
       "\n",
       "    .dataframe thead th {\n",
       "        text-align: right;\n",
       "    }\n",
       "<\/style>\n",
       "<table border=\"1\" class=\"dataframe\">\n",
       "  <thead>\n",
       "    <tr style=\"text-align: right;\">\n",
       "      <th><\/th>\n",
       "      <th>A<\/th>\n",
       "      <th>B<\/th>\n",
       "      <th>C<\/th>\n",
       "      <th>D<\/th>\n",
       "    <\/tr>\n",
       "  <\/thead>\n",
       "  <tbody>\n",
       "    <tr>\n",
       "      <th>2022-12-09<\/th>\n",
       "      <td>-0.026712<\/td>\n",
       "      <td>0.165084<\/td>\n",
       "      <td>0.518039<\/td>\n",
       "      <td>0.298426<\/td>\n",
       "    <\/tr>\n",
       "    <tr>\n",
       "      <th>2022-12-10<\/th>\n",
       "      <td>0.612785<\/td>\n",
       "      <td>-1.588146<\/td>\n",
       "      <td>0.472847<\/td>\n",
       "      <td>0.672616<\/td>\n",
       "    <\/tr>\n",
       "  <\/tbody>\n",
       "<\/table>\n",
       "<\/div>"
      ]
     },
     "metadata":{
      
     },
     "output_type":"display_data"
    }
   ],
   "metadata":{
    "datalore":{
     "node_id":"hnvu5C1DVPMsZpUWqoA18A",
     "type":"CODE",
     "hide_input_from_viewers":false,
     "hide_output_from_viewers":false
    }
   }
  },
  {
   "cell_type":"code",
   "source":[
    "df.tail(3)"
   ],
   "execution_count":12,
   "outputs":[
    {
     "data":{
      "text\/html":[
       "<div>\n",
       "<style scoped>\n",
       "    .dataframe tbody tr th:only-of-type {\n",
       "        vertical-align: middle;\n",
       "    }\n",
       "\n",
       "    .dataframe tbody tr th {\n",
       "        vertical-align: top;\n",
       "    }\n",
       "\n",
       "    .dataframe thead th {\n",
       "        text-align: right;\n",
       "    }\n",
       "<\/style>\n",
       "<table border=\"1\" class=\"dataframe\">\n",
       "  <thead>\n",
       "    <tr style=\"text-align: right;\">\n",
       "      <th><\/th>\n",
       "      <th>A<\/th>\n",
       "      <th>B<\/th>\n",
       "      <th>C<\/th>\n",
       "      <th>D<\/th>\n",
       "    <\/tr>\n",
       "  <\/thead>\n",
       "  <tbody>\n",
       "    <tr>\n",
       "      <th>2022-12-12<\/th>\n",
       "      <td>-0.384783<\/td>\n",
       "      <td>1.057803<\/td>\n",
       "      <td>1.242376<\/td>\n",
       "      <td>0.297427<\/td>\n",
       "    <\/tr>\n",
       "    <tr>\n",
       "      <th>2022-12-13<\/th>\n",
       "      <td>0.097823<\/td>\n",
       "      <td>-1.070181<\/td>\n",
       "      <td>-0.332997<\/td>\n",
       "      <td>0.792624<\/td>\n",
       "    <\/tr>\n",
       "    <tr>\n",
       "      <th>2022-12-14<\/th>\n",
       "      <td>-0.582287<\/td>\n",
       "      <td>0.717762<\/td>\n",
       "      <td>0.169826<\/td>\n",
       "      <td>-0.900196<\/td>\n",
       "    <\/tr>\n",
       "  <\/tbody>\n",
       "<\/table>\n",
       "<\/div>"
      ]
     },
     "metadata":{
      
     },
     "output_type":"display_data"
    }
   ],
   "metadata":{
    "datalore":{
     "node_id":"KztmPxv0nZNWfNU1n10NOO",
     "type":"CODE",
     "hide_input_from_viewers":false,
     "hide_output_from_viewers":false
    }
   }
  },
  {
   "cell_type":"code",
   "source":[
    "df.index"
   ],
   "execution_count":13,
   "outputs":[
    {
     "data":{
      "text\/plain":[
       "DatetimeIndex(['2022-12-09', '2022-12-10', '2022-12-11', '2022-12-12',\n",
       "               '2022-12-13', '2022-12-14'],\n",
       "              dtype='datetime64[ns]', freq='D')"
      ]
     },
     "metadata":{
      
     },
     "output_type":"display_data"
    }
   ],
   "metadata":{
    "datalore":{
     "node_id":"gfr0vT5UiK3fDvTx7vueWn",
     "type":"CODE",
     "hide_input_from_viewers":false,
     "hide_output_from_viewers":false
    }
   }
  },
  {
   "cell_type":"code",
   "source":[
    "df.columns"
   ],
   "execution_count":14,
   "outputs":[
    {
     "data":{
      "text\/plain":[
       "Index(['A', 'B', 'C', 'D'], dtype='object')"
      ]
     },
     "metadata":{
      
     },
     "output_type":"display_data"
    }
   ],
   "metadata":{
    "datalore":{
     "node_id":"ZRjv6TU2TeihRy8cM5ZglN",
     "type":"CODE",
     "hide_input_from_viewers":false,
     "hide_output_from_viewers":false
    }
   }
  },
  {
   "cell_type":"code",
   "source":[
    "df2 = df.to_numpy()\n",
    "print(df2)"
   ],
   "execution_count":17,
   "outputs":[
    {
     "name":"stdout",
     "text":[
      "[[-0.02671213  0.16508409  0.51803912  0.29842556]\n",
      " [ 0.61278507 -1.58814591  0.47284669  0.67261634]\n",
      " [-0.58441598  0.07691826 -0.19529083  0.53597093]\n",
      " [-0.38478281  1.05780304  1.24237561  0.29742676]\n",
      " [ 0.09782345 -1.07018054 -0.33299661  0.79262412]\n",
      " [-0.5822869   0.71776189  0.16982606 -0.90019611]]\n"
     ],
     "output_type":"stream"
    }
   ],
   "metadata":{
    "datalore":{
     "node_id":"2M51Wr7q0sBK2bz5XjqPIS",
     "type":"CODE",
     "hide_input_from_viewers":false,
     "hide_output_from_viewers":false
    }
   }
  },
  {
   "cell_type":"code",
   "source":[
    "df.describe()"
   ],
   "execution_count":18,
   "outputs":[
    {
     "data":{
      "text\/html":[
       "<div>\n",
       "<style scoped>\n",
       "    .dataframe tbody tr th:only-of-type {\n",
       "        vertical-align: middle;\n",
       "    }\n",
       "\n",
       "    .dataframe tbody tr th {\n",
       "        vertical-align: top;\n",
       "    }\n",
       "\n",
       "    .dataframe thead th {\n",
       "        text-align: right;\n",
       "    }\n",
       "<\/style>\n",
       "<table border=\"1\" class=\"dataframe\">\n",
       "  <thead>\n",
       "    <tr style=\"text-align: right;\">\n",
       "      <th><\/th>\n",
       "      <th>A<\/th>\n",
       "      <th>B<\/th>\n",
       "      <th>C<\/th>\n",
       "      <th>D<\/th>\n",
       "    <\/tr>\n",
       "  <\/thead>\n",
       "  <tbody>\n",
       "    <tr>\n",
       "      <th>count<\/th>\n",
       "      <td>6.000000<\/td>\n",
       "      <td>6.000000<\/td>\n",
       "      <td>6.000000<\/td>\n",
       "      <td>6.000000<\/td>\n",
       "    <\/tr>\n",
       "    <tr>\n",
       "      <th>mean<\/th>\n",
       "      <td>-0.144598<\/td>\n",
       "      <td>-0.106793<\/td>\n",
       "      <td>0.312467<\/td>\n",
       "      <td>0.282811<\/td>\n",
       "    <\/tr>\n",
       "    <tr>\n",
       "      <th>std<\/th>\n",
       "      <td>0.466689<\/td>\n",
       "      <td>1.026291<\/td>\n",
       "      <td>0.570526<\/td>\n",
       "      <td>0.612521<\/td>\n",
       "    <\/tr>\n",
       "    <tr>\n",
       "      <th>min<\/th>\n",
       "      <td>-0.584416<\/td>\n",
       "      <td>-1.588146<\/td>\n",
       "      <td>-0.332997<\/td>\n",
       "      <td>-0.900196<\/td>\n",
       "    <\/tr>\n",
       "    <tr>\n",
       "      <th>25%<\/th>\n",
       "      <td>-0.532911<\/td>\n",
       "      <td>-0.783406<\/td>\n",
       "      <td>-0.104012<\/td>\n",
       "      <td>0.297676<\/td>\n",
       "    <\/tr>\n",
       "    <tr>\n",
       "      <th>50%<\/th>\n",
       "      <td>-0.205747<\/td>\n",
       "      <td>0.121001<\/td>\n",
       "      <td>0.321336<\/td>\n",
       "      <td>0.417198<\/td>\n",
       "    <\/tr>\n",
       "    <tr>\n",
       "      <th>75%<\/th>\n",
       "      <td>0.066690<\/td>\n",
       "      <td>0.579592<\/td>\n",
       "      <td>0.506741<\/td>\n",
       "      <td>0.638455<\/td>\n",
       "    <\/tr>\n",
       "    <tr>\n",
       "      <th>max<\/th>\n",
       "      <td>0.612785<\/td>\n",
       "      <td>1.057803<\/td>\n",
       "      <td>1.242376<\/td>\n",
       "      <td>0.792624<\/td>\n",
       "    <\/tr>\n",
       "  <\/tbody>\n",
       "<\/table>\n",
       "<\/div>"
      ]
     },
     "metadata":{
      
     },
     "output_type":"display_data"
    }
   ],
   "metadata":{
    "datalore":{
     "node_id":"OKvTklxlTCivwpMwWncNrf",
     "type":"CODE",
     "hide_input_from_viewers":false,
     "hide_output_from_viewers":false
    }
   }
  },
  {
   "cell_type":"code",
   "source":[
    "df.T"
   ],
   "execution_count":19,
   "outputs":[
    {
     "data":{
      "text\/html":[
       "<div>\n",
       "<style scoped>\n",
       "    .dataframe tbody tr th:only-of-type {\n",
       "        vertical-align: middle;\n",
       "    }\n",
       "\n",
       "    .dataframe tbody tr th {\n",
       "        vertical-align: top;\n",
       "    }\n",
       "\n",
       "    .dataframe thead th {\n",
       "        text-align: right;\n",
       "    }\n",
       "<\/style>\n",
       "<table border=\"1\" class=\"dataframe\">\n",
       "  <thead>\n",
       "    <tr style=\"text-align: right;\">\n",
       "      <th><\/th>\n",
       "      <th>2022-12-09<\/th>\n",
       "      <th>2022-12-10<\/th>\n",
       "      <th>2022-12-11<\/th>\n",
       "      <th>2022-12-12<\/th>\n",
       "      <th>2022-12-13<\/th>\n",
       "      <th>2022-12-14<\/th>\n",
       "    <\/tr>\n",
       "  <\/thead>\n",
       "  <tbody>\n",
       "    <tr>\n",
       "      <th>A<\/th>\n",
       "      <td>-0.026712<\/td>\n",
       "      <td>0.612785<\/td>\n",
       "      <td>-0.584416<\/td>\n",
       "      <td>-0.384783<\/td>\n",
       "      <td>0.097823<\/td>\n",
       "      <td>-0.582287<\/td>\n",
       "    <\/tr>\n",
       "    <tr>\n",
       "      <th>B<\/th>\n",
       "      <td>0.165084<\/td>\n",
       "      <td>-1.588146<\/td>\n",
       "      <td>0.076918<\/td>\n",
       "      <td>1.057803<\/td>\n",
       "      <td>-1.070181<\/td>\n",
       "      <td>0.717762<\/td>\n",
       "    <\/tr>\n",
       "    <tr>\n",
       "      <th>C<\/th>\n",
       "      <td>0.518039<\/td>\n",
       "      <td>0.472847<\/td>\n",
       "      <td>-0.195291<\/td>\n",
       "      <td>1.242376<\/td>\n",
       "      <td>-0.332997<\/td>\n",
       "      <td>0.169826<\/td>\n",
       "    <\/tr>\n",
       "    <tr>\n",
       "      <th>D<\/th>\n",
       "      <td>0.298426<\/td>\n",
       "      <td>0.672616<\/td>\n",
       "      <td>0.535971<\/td>\n",
       "      <td>0.297427<\/td>\n",
       "      <td>0.792624<\/td>\n",
       "      <td>-0.900196<\/td>\n",
       "    <\/tr>\n",
       "  <\/tbody>\n",
       "<\/table>\n",
       "<\/div>"
      ]
     },
     "metadata":{
      
     },
     "output_type":"display_data"
    }
   ],
   "metadata":{
    "datalore":{
     "node_id":"ASGIelj1BDoU87hilX052R",
     "type":"CODE",
     "hide_input_from_viewers":false,
     "hide_output_from_viewers":false
    }
   }
  },
  {
   "cell_type":"code",
   "source":[
    "df.sort_index(axis=1,ascending=False)"
   ],
   "execution_count":20,
   "outputs":[
    {
     "data":{
      "text\/html":[
       "<div>\n",
       "<style scoped>\n",
       "    .dataframe tbody tr th:only-of-type {\n",
       "        vertical-align: middle;\n",
       "    }\n",
       "\n",
       "    .dataframe tbody tr th {\n",
       "        vertical-align: top;\n",
       "    }\n",
       "\n",
       "    .dataframe thead th {\n",
       "        text-align: right;\n",
       "    }\n",
       "<\/style>\n",
       "<table border=\"1\" class=\"dataframe\">\n",
       "  <thead>\n",
       "    <tr style=\"text-align: right;\">\n",
       "      <th><\/th>\n",
       "      <th>D<\/th>\n",
       "      <th>C<\/th>\n",
       "      <th>B<\/th>\n",
       "      <th>A<\/th>\n",
       "    <\/tr>\n",
       "  <\/thead>\n",
       "  <tbody>\n",
       "    <tr>\n",
       "      <th>2022-12-09<\/th>\n",
       "      <td>0.298426<\/td>\n",
       "      <td>0.518039<\/td>\n",
       "      <td>0.165084<\/td>\n",
       "      <td>-0.026712<\/td>\n",
       "    <\/tr>\n",
       "    <tr>\n",
       "      <th>2022-12-10<\/th>\n",
       "      <td>0.672616<\/td>\n",
       "      <td>0.472847<\/td>\n",
       "      <td>-1.588146<\/td>\n",
       "      <td>0.612785<\/td>\n",
       "    <\/tr>\n",
       "    <tr>\n",
       "      <th>2022-12-11<\/th>\n",
       "      <td>0.535971<\/td>\n",
       "      <td>-0.195291<\/td>\n",
       "      <td>0.076918<\/td>\n",
       "      <td>-0.584416<\/td>\n",
       "    <\/tr>\n",
       "    <tr>\n",
       "      <th>2022-12-12<\/th>\n",
       "      <td>0.297427<\/td>\n",
       "      <td>1.242376<\/td>\n",
       "      <td>1.057803<\/td>\n",
       "      <td>-0.384783<\/td>\n",
       "    <\/tr>\n",
       "    <tr>\n",
       "      <th>2022-12-13<\/th>\n",
       "      <td>0.792624<\/td>\n",
       "      <td>-0.332997<\/td>\n",
       "      <td>-1.070181<\/td>\n",
       "      <td>0.097823<\/td>\n",
       "    <\/tr>\n",
       "    <tr>\n",
       "      <th>2022-12-14<\/th>\n",
       "      <td>-0.900196<\/td>\n",
       "      <td>0.169826<\/td>\n",
       "      <td>0.717762<\/td>\n",
       "      <td>-0.582287<\/td>\n",
       "    <\/tr>\n",
       "  <\/tbody>\n",
       "<\/table>\n",
       "<\/div>"
      ]
     },
     "metadata":{
      
     },
     "output_type":"display_data"
    }
   ],
   "metadata":{
    "datalore":{
     "node_id":"dpfCwXbdpWtF9OTNaB9p32",
     "type":"CODE",
     "hide_input_from_viewers":false,
     "hide_output_from_viewers":false
    }
   }
  },
  {
   "cell_type":"code",
   "source":[
    "df.sort_values(by=\"B\")"
   ],
   "execution_count":21,
   "outputs":[
    {
     "data":{
      "text\/html":[
       "<div>\n",
       "<style scoped>\n",
       "    .dataframe tbody tr th:only-of-type {\n",
       "        vertical-align: middle;\n",
       "    }\n",
       "\n",
       "    .dataframe tbody tr th {\n",
       "        vertical-align: top;\n",
       "    }\n",
       "\n",
       "    .dataframe thead th {\n",
       "        text-align: right;\n",
       "    }\n",
       "<\/style>\n",
       "<table border=\"1\" class=\"dataframe\">\n",
       "  <thead>\n",
       "    <tr style=\"text-align: right;\">\n",
       "      <th><\/th>\n",
       "      <th>A<\/th>\n",
       "      <th>B<\/th>\n",
       "      <th>C<\/th>\n",
       "      <th>D<\/th>\n",
       "    <\/tr>\n",
       "  <\/thead>\n",
       "  <tbody>\n",
       "    <tr>\n",
       "      <th>2022-12-10<\/th>\n",
       "      <td>0.612785<\/td>\n",
       "      <td>-1.588146<\/td>\n",
       "      <td>0.472847<\/td>\n",
       "      <td>0.672616<\/td>\n",
       "    <\/tr>\n",
       "    <tr>\n",
       "      <th>2022-12-13<\/th>\n",
       "      <td>0.097823<\/td>\n",
       "      <td>-1.070181<\/td>\n",
       "      <td>-0.332997<\/td>\n",
       "      <td>0.792624<\/td>\n",
       "    <\/tr>\n",
       "    <tr>\n",
       "      <th>2022-12-11<\/th>\n",
       "      <td>-0.584416<\/td>\n",
       "      <td>0.076918<\/td>\n",
       "      <td>-0.195291<\/td>\n",
       "      <td>0.535971<\/td>\n",
       "    <\/tr>\n",
       "    <tr>\n",
       "      <th>2022-12-09<\/th>\n",
       "      <td>-0.026712<\/td>\n",
       "      <td>0.165084<\/td>\n",
       "      <td>0.518039<\/td>\n",
       "      <td>0.298426<\/td>\n",
       "    <\/tr>\n",
       "    <tr>\n",
       "      <th>2022-12-14<\/th>\n",
       "      <td>-0.582287<\/td>\n",
       "      <td>0.717762<\/td>\n",
       "      <td>0.169826<\/td>\n",
       "      <td>-0.900196<\/td>\n",
       "    <\/tr>\n",
       "    <tr>\n",
       "      <th>2022-12-12<\/th>\n",
       "      <td>-0.384783<\/td>\n",
       "      <td>1.057803<\/td>\n",
       "      <td>1.242376<\/td>\n",
       "      <td>0.297427<\/td>\n",
       "    <\/tr>\n",
       "  <\/tbody>\n",
       "<\/table>\n",
       "<\/div>"
      ]
     },
     "metadata":{
      
     },
     "output_type":"display_data"
    }
   ],
   "metadata":{
    "datalore":{
     "node_id":"Z7g9O5kTAi6JWEvGVVl8ph",
     "type":"CODE",
     "hide_input_from_viewers":false,
     "hide_output_from_viewers":false
    }
   }
  },
  {
   "cell_type":"code",
   "source":[
    "df[\"A\"]"
   ],
   "execution_count":22,
   "outputs":[
    {
     "data":{
      "text\/html":[
       "<pre>2022-12-09   -0.026712\n",
       "2022-12-10    0.612785\n",
       "2022-12-11   -0.584416\n",
       "2022-12-12   -0.384783\n",
       "2022-12-13    0.097823\n",
       "2022-12-14   -0.582287\n",
       "Freq: D, Name: A, dtype: float64<\/pre>"
      ]
     },
     "metadata":{
      
     },
     "output_type":"display_data"
    }
   ],
   "metadata":{
    "datalore":{
     "node_id":"gHj35bfuumBwIKUnecG5xV",
     "type":"CODE",
     "hide_input_from_viewers":false,
     "hide_output_from_viewers":false
    }
   }
  },
  {
   "cell_type":"code",
   "source":[
    "df[0:3]"
   ],
   "execution_count":23,
   "outputs":[
    {
     "data":{
      "text\/html":[
       "<div>\n",
       "<style scoped>\n",
       "    .dataframe tbody tr th:only-of-type {\n",
       "        vertical-align: middle;\n",
       "    }\n",
       "\n",
       "    .dataframe tbody tr th {\n",
       "        vertical-align: top;\n",
       "    }\n",
       "\n",
       "    .dataframe thead th {\n",
       "        text-align: right;\n",
       "    }\n",
       "<\/style>\n",
       "<table border=\"1\" class=\"dataframe\">\n",
       "  <thead>\n",
       "    <tr style=\"text-align: right;\">\n",
       "      <th><\/th>\n",
       "      <th>A<\/th>\n",
       "      <th>B<\/th>\n",
       "      <th>C<\/th>\n",
       "      <th>D<\/th>\n",
       "    <\/tr>\n",
       "  <\/thead>\n",
       "  <tbody>\n",
       "    <tr>\n",
       "      <th>2022-12-09<\/th>\n",
       "      <td>-0.026712<\/td>\n",
       "      <td>0.165084<\/td>\n",
       "      <td>0.518039<\/td>\n",
       "      <td>0.298426<\/td>\n",
       "    <\/tr>\n",
       "    <tr>\n",
       "      <th>2022-12-10<\/th>\n",
       "      <td>0.612785<\/td>\n",
       "      <td>-1.588146<\/td>\n",
       "      <td>0.472847<\/td>\n",
       "      <td>0.672616<\/td>\n",
       "    <\/tr>\n",
       "    <tr>\n",
       "      <th>2022-12-11<\/th>\n",
       "      <td>-0.584416<\/td>\n",
       "      <td>0.076918<\/td>\n",
       "      <td>-0.195291<\/td>\n",
       "      <td>0.535971<\/td>\n",
       "    <\/tr>\n",
       "  <\/tbody>\n",
       "<\/table>\n",
       "<\/div>"
      ]
     },
     "metadata":{
      
     },
     "output_type":"display_data"
    }
   ],
   "metadata":{
    "datalore":{
     "node_id":"broU0sBrJrziAu3NRphW3M",
     "type":"CODE",
     "hide_input_from_viewers":false,
     "hide_output_from_viewers":false
    }
   }
  },
  {
   "cell_type":"code",
   "source":[
    "df[\"20221211\":\"20221213\"]"
   ],
   "execution_count":24,
   "outputs":[
    {
     "data":{
      "text\/html":[
       "<div>\n",
       "<style scoped>\n",
       "    .dataframe tbody tr th:only-of-type {\n",
       "        vertical-align: middle;\n",
       "    }\n",
       "\n",
       "    .dataframe tbody tr th {\n",
       "        vertical-align: top;\n",
       "    }\n",
       "\n",
       "    .dataframe thead th {\n",
       "        text-align: right;\n",
       "    }\n",
       "<\/style>\n",
       "<table border=\"1\" class=\"dataframe\">\n",
       "  <thead>\n",
       "    <tr style=\"text-align: right;\">\n",
       "      <th><\/th>\n",
       "      <th>A<\/th>\n",
       "      <th>B<\/th>\n",
       "      <th>C<\/th>\n",
       "      <th>D<\/th>\n",
       "    <\/tr>\n",
       "  <\/thead>\n",
       "  <tbody>\n",
       "    <tr>\n",
       "      <th>2022-12-11<\/th>\n",
       "      <td>-0.584416<\/td>\n",
       "      <td>0.076918<\/td>\n",
       "      <td>-0.195291<\/td>\n",
       "      <td>0.535971<\/td>\n",
       "    <\/tr>\n",
       "    <tr>\n",
       "      <th>2022-12-12<\/th>\n",
       "      <td>-0.384783<\/td>\n",
       "      <td>1.057803<\/td>\n",
       "      <td>1.242376<\/td>\n",
       "      <td>0.297427<\/td>\n",
       "    <\/tr>\n",
       "    <tr>\n",
       "      <th>2022-12-13<\/th>\n",
       "      <td>0.097823<\/td>\n",
       "      <td>-1.070181<\/td>\n",
       "      <td>-0.332997<\/td>\n",
       "      <td>0.792624<\/td>\n",
       "    <\/tr>\n",
       "  <\/tbody>\n",
       "<\/table>\n",
       "<\/div>"
      ]
     },
     "metadata":{
      
     },
     "output_type":"display_data"
    }
   ],
   "metadata":{
    "datalore":{
     "node_id":"OD5XVmSwVjuSS6l7b3J4SN",
     "type":"CODE",
     "hide_input_from_viewers":false,
     "hide_output_from_viewers":false
    }
   }
  },
  {
   "cell_type":"code",
   "source":[
    "df.loc[daty[0:2]]"
   ],
   "execution_count":26,
   "outputs":[
    {
     "data":{
      "text\/html":[
       "<div>\n",
       "<style scoped>\n",
       "    .dataframe tbody tr th:only-of-type {\n",
       "        vertical-align: middle;\n",
       "    }\n",
       "\n",
       "    .dataframe tbody tr th {\n",
       "        vertical-align: top;\n",
       "    }\n",
       "\n",
       "    .dataframe thead th {\n",
       "        text-align: right;\n",
       "    }\n",
       "<\/style>\n",
       "<table border=\"1\" class=\"dataframe\">\n",
       "  <thead>\n",
       "    <tr style=\"text-align: right;\">\n",
       "      <th><\/th>\n",
       "      <th>A<\/th>\n",
       "      <th>B<\/th>\n",
       "      <th>C<\/th>\n",
       "      <th>D<\/th>\n",
       "    <\/tr>\n",
       "  <\/thead>\n",
       "  <tbody>\n",
       "    <tr>\n",
       "      <th>2022-12-09<\/th>\n",
       "      <td>-0.026712<\/td>\n",
       "      <td>0.165084<\/td>\n",
       "      <td>0.518039<\/td>\n",
       "      <td>0.298426<\/td>\n",
       "    <\/tr>\n",
       "    <tr>\n",
       "      <th>2022-12-10<\/th>\n",
       "      <td>0.612785<\/td>\n",
       "      <td>-1.588146<\/td>\n",
       "      <td>0.472847<\/td>\n",
       "      <td>0.672616<\/td>\n",
       "    <\/tr>\n",
       "  <\/tbody>\n",
       "<\/table>\n",
       "<\/div>"
      ]
     },
     "metadata":{
      
     },
     "output_type":"display_data"
    }
   ],
   "metadata":{
    "datalore":{
     "node_id":"r97RSW1Xayyuzj2ErVzt6M",
     "type":"CODE",
     "hide_input_from_viewers":false,
     "hide_output_from_viewers":false
    }
   }
  },
  {
   "cell_type":"code",
   "source":[
    "df.loc[:,[\"A\",\"B\"]]"
   ],
   "execution_count":27,
   "outputs":[
    {
     "data":{
      "text\/html":[
       "<div>\n",
       "<style scoped>\n",
       "    .dataframe tbody tr th:only-of-type {\n",
       "        vertical-align: middle;\n",
       "    }\n",
       "\n",
       "    .dataframe tbody tr th {\n",
       "        vertical-align: top;\n",
       "    }\n",
       "\n",
       "    .dataframe thead th {\n",
       "        text-align: right;\n",
       "    }\n",
       "<\/style>\n",
       "<table border=\"1\" class=\"dataframe\">\n",
       "  <thead>\n",
       "    <tr style=\"text-align: right;\">\n",
       "      <th><\/th>\n",
       "      <th>A<\/th>\n",
       "      <th>B<\/th>\n",
       "    <\/tr>\n",
       "  <\/thead>\n",
       "  <tbody>\n",
       "    <tr>\n",
       "      <th>2022-12-09<\/th>\n",
       "      <td>-0.026712<\/td>\n",
       "      <td>0.165084<\/td>\n",
       "    <\/tr>\n",
       "    <tr>\n",
       "      <th>2022-12-10<\/th>\n",
       "      <td>0.612785<\/td>\n",
       "      <td>-1.588146<\/td>\n",
       "    <\/tr>\n",
       "    <tr>\n",
       "      <th>2022-12-11<\/th>\n",
       "      <td>-0.584416<\/td>\n",
       "      <td>0.076918<\/td>\n",
       "    <\/tr>\n",
       "    <tr>\n",
       "      <th>2022-12-12<\/th>\n",
       "      <td>-0.384783<\/td>\n",
       "      <td>1.057803<\/td>\n",
       "    <\/tr>\n",
       "    <tr>\n",
       "      <th>2022-12-13<\/th>\n",
       "      <td>0.097823<\/td>\n",
       "      <td>-1.070181<\/td>\n",
       "    <\/tr>\n",
       "    <tr>\n",
       "      <th>2022-12-14<\/th>\n",
       "      <td>-0.582287<\/td>\n",
       "      <td>0.717762<\/td>\n",
       "    <\/tr>\n",
       "  <\/tbody>\n",
       "<\/table>\n",
       "<\/div>"
      ]
     },
     "metadata":{
      
     },
     "output_type":"display_data"
    }
   ],
   "metadata":{
    "datalore":{
     "node_id":"X2tAYVBXGDAFaHe19YJG8A",
     "type":"CODE",
     "hide_input_from_viewers":false,
     "hide_output_from_viewers":false
    }
   }
  },
  {
   "cell_type":"code",
   "source":[
    "df.loc[daty[0],\"D\"]"
   ],
   "execution_count":28,
   "outputs":[
    {
     "data":{
      "text\/plain":[
       "0.29842555517714364"
      ]
     },
     "metadata":{
      
     },
     "output_type":"display_data"
    }
   ],
   "metadata":{
    "datalore":{
     "node_id":"IbmuHWpLBfdhCDLUfbxC0K",
     "type":"CODE",
     "hide_input_from_viewers":false,
     "hide_output_from_viewers":false
    }
   }
  },
  {
   "cell_type":"code",
   "source":[
    "df.iloc[3]"
   ],
   "execution_count":29,
   "outputs":[
    {
     "data":{
      "text\/html":[
       "<pre>A   -0.384783\n",
       "B    1.057803\n",
       "C    1.242376\n",
       "D    0.297427\n",
       "Name: 2022-12-12 00:00:00, dtype: float64<\/pre>"
      ]
     },
     "metadata":{
      
     },
     "output_type":"display_data"
    }
   ],
   "metadata":{
    "datalore":{
     "node_id":"Hsfh2R2AF21KowF5bfB8xz",
     "type":"CODE",
     "hide_input_from_viewers":false,
     "hide_output_from_viewers":false
    }
   }
  },
  {
   "cell_type":"code",
   "source":[
    "df.iloc[3:5,0:2]"
   ],
   "execution_count":30,
   "outputs":[
    {
     "data":{
      "text\/html":[
       "<div>\n",
       "<style scoped>\n",
       "    .dataframe tbody tr th:only-of-type {\n",
       "        vertical-align: middle;\n",
       "    }\n",
       "\n",
       "    .dataframe tbody tr th {\n",
       "        vertical-align: top;\n",
       "    }\n",
       "\n",
       "    .dataframe thead th {\n",
       "        text-align: right;\n",
       "    }\n",
       "<\/style>\n",
       "<table border=\"1\" class=\"dataframe\">\n",
       "  <thead>\n",
       "    <tr style=\"text-align: right;\">\n",
       "      <th><\/th>\n",
       "      <th>A<\/th>\n",
       "      <th>B<\/th>\n",
       "    <\/tr>\n",
       "  <\/thead>\n",
       "  <tbody>\n",
       "    <tr>\n",
       "      <th>2022-12-12<\/th>\n",
       "      <td>-0.384783<\/td>\n",
       "      <td>1.057803<\/td>\n",
       "    <\/tr>\n",
       "    <tr>\n",
       "      <th>2022-12-13<\/th>\n",
       "      <td>0.097823<\/td>\n",
       "      <td>-1.070181<\/td>\n",
       "    <\/tr>\n",
       "  <\/tbody>\n",
       "<\/table>\n",
       "<\/div>"
      ]
     },
     "metadata":{
      
     },
     "output_type":"display_data"
    }
   ],
   "metadata":{
    "datalore":{
     "node_id":"WKPv5w42By15BvRZsP1x9r",
     "type":"CODE",
     "hide_input_from_viewers":false,
     "hide_output_from_viewers":false
    }
   }
  },
  {
   "cell_type":"code",
   "source":[
    "df.iloc[[1,2,4],[0,2]]"
   ],
   "execution_count":31,
   "outputs":[
    {
     "data":{
      "text\/html":[
       "<div>\n",
       "<style scoped>\n",
       "    .dataframe tbody tr th:only-of-type {\n",
       "        vertical-align: middle;\n",
       "    }\n",
       "\n",
       "    .dataframe tbody tr th {\n",
       "        vertical-align: top;\n",
       "    }\n",
       "\n",
       "    .dataframe thead th {\n",
       "        text-align: right;\n",
       "    }\n",
       "<\/style>\n",
       "<table border=\"1\" class=\"dataframe\">\n",
       "  <thead>\n",
       "    <tr style=\"text-align: right;\">\n",
       "      <th><\/th>\n",
       "      <th>A<\/th>\n",
       "      <th>C<\/th>\n",
       "    <\/tr>\n",
       "  <\/thead>\n",
       "  <tbody>\n",
       "    <tr>\n",
       "      <th>2022-12-10<\/th>\n",
       "      <td>0.612785<\/td>\n",
       "      <td>0.472847<\/td>\n",
       "    <\/tr>\n",
       "    <tr>\n",
       "      <th>2022-12-11<\/th>\n",
       "      <td>-0.584416<\/td>\n",
       "      <td>-0.195291<\/td>\n",
       "    <\/tr>\n",
       "    <tr>\n",
       "      <th>2022-12-13<\/th>\n",
       "      <td>0.097823<\/td>\n",
       "      <td>-0.332997<\/td>\n",
       "    <\/tr>\n",
       "  <\/tbody>\n",
       "<\/table>\n",
       "<\/div>"
      ]
     },
     "metadata":{
      
     },
     "output_type":"display_data"
    }
   ],
   "metadata":{
    "datalore":{
     "node_id":"juzdZeNjJivxMVJDqqjhKu",
     "type":"CODE",
     "hide_input_from_viewers":false,
     "hide_output_from_viewers":false
    }
   }
  },
  {
   "cell_type":"code",
   "source":[
    "df[df[\"A\"] >0]"
   ],
   "execution_count":33,
   "outputs":[
    {
     "data":{
      "text\/html":[
       "<div>\n",
       "<style scoped>\n",
       "    .dataframe tbody tr th:only-of-type {\n",
       "        vertical-align: middle;\n",
       "    }\n",
       "\n",
       "    .dataframe tbody tr th {\n",
       "        vertical-align: top;\n",
       "    }\n",
       "\n",
       "    .dataframe thead th {\n",
       "        text-align: right;\n",
       "    }\n",
       "<\/style>\n",
       "<table border=\"1\" class=\"dataframe\">\n",
       "  <thead>\n",
       "    <tr style=\"text-align: right;\">\n",
       "      <th><\/th>\n",
       "      <th>A<\/th>\n",
       "      <th>B<\/th>\n",
       "      <th>C<\/th>\n",
       "      <th>D<\/th>\n",
       "    <\/tr>\n",
       "  <\/thead>\n",
       "  <tbody>\n",
       "    <tr>\n",
       "      <th>2022-12-10<\/th>\n",
       "      <td>0.612785<\/td>\n",
       "      <td>-1.588146<\/td>\n",
       "      <td>0.472847<\/td>\n",
       "      <td>0.672616<\/td>\n",
       "    <\/tr>\n",
       "    <tr>\n",
       "      <th>2022-12-13<\/th>\n",
       "      <td>0.097823<\/td>\n",
       "      <td>-1.070181<\/td>\n",
       "      <td>-0.332997<\/td>\n",
       "      <td>0.792624<\/td>\n",
       "    <\/tr>\n",
       "  <\/tbody>\n",
       "<\/table>\n",
       "<\/div>"
      ]
     },
     "metadata":{
      
     },
     "output_type":"display_data"
    }
   ],
   "metadata":{
    "datalore":{
     "node_id":"d7E77N1dRt8ERyJ4ZPwQZ8",
     "type":"CODE",
     "hide_input_from_viewers":false,
     "hide_output_from_viewers":false
    }
   }
  },
  {
   "cell_type":"code",
   "source":[
    "df[df>0]"
   ],
   "execution_count":34,
   "outputs":[
    {
     "data":{
      "text\/html":[
       "<div>\n",
       "<style scoped>\n",
       "    .dataframe tbody tr th:only-of-type {\n",
       "        vertical-align: middle;\n",
       "    }\n",
       "\n",
       "    .dataframe tbody tr th {\n",
       "        vertical-align: top;\n",
       "    }\n",
       "\n",
       "    .dataframe thead th {\n",
       "        text-align: right;\n",
       "    }\n",
       "<\/style>\n",
       "<table border=\"1\" class=\"dataframe\">\n",
       "  <thead>\n",
       "    <tr style=\"text-align: right;\">\n",
       "      <th><\/th>\n",
       "      <th>A<\/th>\n",
       "      <th>B<\/th>\n",
       "      <th>C<\/th>\n",
       "      <th>D<\/th>\n",
       "    <\/tr>\n",
       "  <\/thead>\n",
       "  <tbody>\n",
       "    <tr>\n",
       "      <th>2022-12-09<\/th>\n",
       "      <td>NaN<\/td>\n",
       "      <td>0.165084<\/td>\n",
       "      <td>0.518039<\/td>\n",
       "      <td>0.298426<\/td>\n",
       "    <\/tr>\n",
       "    <tr>\n",
       "      <th>2022-12-10<\/th>\n",
       "      <td>0.612785<\/td>\n",
       "      <td>NaN<\/td>\n",
       "      <td>0.472847<\/td>\n",
       "      <td>0.672616<\/td>\n",
       "    <\/tr>\n",
       "    <tr>\n",
       "      <th>2022-12-11<\/th>\n",
       "      <td>NaN<\/td>\n",
       "      <td>0.076918<\/td>\n",
       "      <td>NaN<\/td>\n",
       "      <td>0.535971<\/td>\n",
       "    <\/tr>\n",
       "    <tr>\n",
       "      <th>2022-12-12<\/th>\n",
       "      <td>NaN<\/td>\n",
       "      <td>1.057803<\/td>\n",
       "      <td>1.242376<\/td>\n",
       "      <td>0.297427<\/td>\n",
       "    <\/tr>\n",
       "    <tr>\n",
       "      <th>2022-12-13<\/th>\n",
       "      <td>0.097823<\/td>\n",
       "      <td>NaN<\/td>\n",
       "      <td>NaN<\/td>\n",
       "      <td>0.792624<\/td>\n",
       "    <\/tr>\n",
       "    <tr>\n",
       "      <th>2022-12-14<\/th>\n",
       "      <td>NaN<\/td>\n",
       "      <td>0.717762<\/td>\n",
       "      <td>0.169826<\/td>\n",
       "      <td>NaN<\/td>\n",
       "    <\/tr>\n",
       "  <\/tbody>\n",
       "<\/table>\n",
       "<\/div>"
      ]
     },
     "metadata":{
      
     },
     "output_type":"display_data"
    }
   ],
   "metadata":{
    "datalore":{
     "node_id":"dB1XdwVYo0pnFlWfkdjt6C",
     "type":"CODE",
     "hide_input_from_viewers":false,
     "hide_output_from_viewers":false
    }
   }
  },
  {
   "cell_type":"code",
   "source":[
    "df3 = df.copy()\n",
    "df3[\"E\"] = [\"jeden\",\"jeden\",\"trzy\",\"dwa\",\"trzy\",\"jeden\"]\n",
    "df3"
   ],
   "execution_count":36,
   "outputs":[
    {
     "data":{
      "text\/html":[
       "<div>\n",
       "<style scoped>\n",
       "    .dataframe tbody tr th:only-of-type {\n",
       "        vertical-align: middle;\n",
       "    }\n",
       "\n",
       "    .dataframe tbody tr th {\n",
       "        vertical-align: top;\n",
       "    }\n",
       "\n",
       "    .dataframe thead th {\n",
       "        text-align: right;\n",
       "    }\n",
       "<\/style>\n",
       "<table border=\"1\" class=\"dataframe\">\n",
       "  <thead>\n",
       "    <tr style=\"text-align: right;\">\n",
       "      <th><\/th>\n",
       "      <th>A<\/th>\n",
       "      <th>B<\/th>\n",
       "      <th>C<\/th>\n",
       "      <th>D<\/th>\n",
       "      <th>E<\/th>\n",
       "    <\/tr>\n",
       "  <\/thead>\n",
       "  <tbody>\n",
       "    <tr>\n",
       "      <th>2022-12-09<\/th>\n",
       "      <td>-0.026712<\/td>\n",
       "      <td>0.165084<\/td>\n",
       "      <td>0.518039<\/td>\n",
       "      <td>0.298426<\/td>\n",
       "      <td>jeden<\/td>\n",
       "    <\/tr>\n",
       "    <tr>\n",
       "      <th>2022-12-10<\/th>\n",
       "      <td>0.612785<\/td>\n",
       "      <td>-1.588146<\/td>\n",
       "      <td>0.472847<\/td>\n",
       "      <td>0.672616<\/td>\n",
       "      <td>jeden<\/td>\n",
       "    <\/tr>\n",
       "    <tr>\n",
       "      <th>2022-12-11<\/th>\n",
       "      <td>-0.584416<\/td>\n",
       "      <td>0.076918<\/td>\n",
       "      <td>-0.195291<\/td>\n",
       "      <td>0.535971<\/td>\n",
       "      <td>trzy<\/td>\n",
       "    <\/tr>\n",
       "    <tr>\n",
       "      <th>2022-12-12<\/th>\n",
       "      <td>-0.384783<\/td>\n",
       "      <td>1.057803<\/td>\n",
       "      <td>1.242376<\/td>\n",
       "      <td>0.297427<\/td>\n",
       "      <td>dwa<\/td>\n",
       "    <\/tr>\n",
       "    <tr>\n",
       "      <th>2022-12-13<\/th>\n",
       "      <td>0.097823<\/td>\n",
       "      <td>-1.070181<\/td>\n",
       "      <td>-0.332997<\/td>\n",
       "      <td>0.792624<\/td>\n",
       "      <td>trzy<\/td>\n",
       "    <\/tr>\n",
       "    <tr>\n",
       "      <th>2022-12-14<\/th>\n",
       "      <td>-0.582287<\/td>\n",
       "      <td>0.717762<\/td>\n",
       "      <td>0.169826<\/td>\n",
       "      <td>-0.900196<\/td>\n",
       "      <td>jeden<\/td>\n",
       "    <\/tr>\n",
       "  <\/tbody>\n",
       "<\/table>\n",
       "<\/div>"
      ]
     },
     "metadata":{
      
     },
     "output_type":"display_data"
    }
   ],
   "metadata":{
    "datalore":{
     "node_id":"r3QdUcrekrMvekJRb8AJ2A",
     "type":"CODE",
     "hide_input_from_viewers":false,
     "hide_output_from_viewers":false
    }
   }
  },
  {
   "cell_type":"code",
   "source":[
    "df3[df3[\"E\"].isin([\"dwa\",\"trzy\"])]"
   ],
   "execution_count":39,
   "outputs":[
    {
     "data":{
      "text\/html":[
       "<div>\n",
       "<style scoped>\n",
       "    .dataframe tbody tr th:only-of-type {\n",
       "        vertical-align: middle;\n",
       "    }\n",
       "\n",
       "    .dataframe tbody tr th {\n",
       "        vertical-align: top;\n",
       "    }\n",
       "\n",
       "    .dataframe thead th {\n",
       "        text-align: right;\n",
       "    }\n",
       "<\/style>\n",
       "<table border=\"1\" class=\"dataframe\">\n",
       "  <thead>\n",
       "    <tr style=\"text-align: right;\">\n",
       "      <th><\/th>\n",
       "      <th>A<\/th>\n",
       "      <th>B<\/th>\n",
       "      <th>C<\/th>\n",
       "      <th>D<\/th>\n",
       "      <th>E<\/th>\n",
       "    <\/tr>\n",
       "  <\/thead>\n",
       "  <tbody>\n",
       "    <tr>\n",
       "      <th>2022-12-11<\/th>\n",
       "      <td>-0.584416<\/td>\n",
       "      <td>0.076918<\/td>\n",
       "      <td>-0.195291<\/td>\n",
       "      <td>0.535971<\/td>\n",
       "      <td>trzy<\/td>\n",
       "    <\/tr>\n",
       "    <tr>\n",
       "      <th>2022-12-12<\/th>\n",
       "      <td>-0.384783<\/td>\n",
       "      <td>1.057803<\/td>\n",
       "      <td>1.242376<\/td>\n",
       "      <td>0.297427<\/td>\n",
       "      <td>dwa<\/td>\n",
       "    <\/tr>\n",
       "    <tr>\n",
       "      <th>2022-12-13<\/th>\n",
       "      <td>0.097823<\/td>\n",
       "      <td>-1.070181<\/td>\n",
       "      <td>-0.332997<\/td>\n",
       "      <td>0.792624<\/td>\n",
       "      <td>trzy<\/td>\n",
       "    <\/tr>\n",
       "  <\/tbody>\n",
       "<\/table>\n",
       "<\/div>"
      ]
     },
     "metadata":{
      
     },
     "output_type":"display_data"
    }
   ],
   "metadata":{
    "datalore":{
     "node_id":"EovaNQYGRY021PMvABpcNb",
     "type":"CODE",
     "hide_input_from_viewers":false,
     "hide_output_from_viewers":false
    }
   }
  }
 ],
 "metadata":{
  "kernelspec":{
   "display_name":"Python",
   "language":"python",
   "name":"python"
  },
  "datalore":{
   "version":1,
   "computation_mode":"JUPYTER",
   "package_manager":"pip",
   "base_environment":"default",
   "packages":[
    
   ]
  }
 },
 "nbformat":4,
 "nbformat_minor":4
}